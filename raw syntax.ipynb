{
 "cells": [
  {
   "cell_type": "code",
   "execution_count": 1,
   "metadata": {},
   "outputs": [],
   "source": [
    "# drop columns\n",
    "\n",
    "# df.drop(['B', 'C'], axis=1)\n",
    "\n",
    "#---------------------------------------------------------------------------------\n",
    "# drop columns\n",
    "\n",
    "# df.drop(columns=['B', 'C'])\n",
    "\n",
    "#---------------------------------------------------------------------------------\n",
    "# rename columns\n",
    "\n",
    "# rankings_pd.rename(columns = {'test':'TEST'}, inplace = True)\n",
    "\n",
    "#---------------------------------------------------------------------------------\n",
    "# filling missing value using fillna()  \n",
    "\n",
    "#df.fillna(0)\n",
    "\n",
    "#---------------------------------------------------------------------------------\n",
    "# filling a missing value with\n",
    "# previous ones  \n",
    "\n",
    "#df.fillna(method ='pad')\n",
    "\n",
    "#----------------------------------------------------------------------------------\n",
    "# Filling null value with the next ones\n",
    "# filling  null value using fillna() function  \n",
    "#df.fillna(method ='bfill')\n",
    "\n",
    "#-----------------------------------------------------------------------------------\n",
    "# making new data frame with dropped NA values \n",
    "\n",
    "#new_data = data.dropna(axis = 0, how ='any') "
   ]
  },
  {
   "cell_type": "code",
   "execution_count": null,
   "metadata": {},
   "outputs": [],
   "source": [
    "#------------------------------------------------------------------------\n",
    "# importing pandas package \n",
    "\n",
    "#import pandas as pd \n",
    "\n",
    "#-------------------------------------------------------------------------\n",
    "# making data frame from csv file \n",
    "\n",
    "#data = pd.read_csv(\"employees.csv\") \n",
    "\n",
    "#-------------------------------------------------------------------------\n",
    "# filling a null values using fillna() \n",
    "\n",
    "#data[\"Gender\"].fillna(\"No Gender\", inplace = True) "
   ]
  },
  {
   "cell_type": "code",
   "execution_count": null,
   "metadata": {},
   "outputs": [],
   "source": [
    "https://youtu.be/iYWKfUOtGaw"
   ]
  },
  {
   "cell_type": "code",
   "execution_count": null,
   "metadata": {},
   "outputs": [],
   "source": [
    "#import pandas as pd\n",
    "\n",
    "#initialize dataframe\n",
    "#df = pd.DataFrame({'a': [1, 4, 7, 2], 'b': [2, 0, 8, 7]})\n",
    "\n",
    "#get rows where that b>4\n",
    "#3filtered_df = df.query('b>4')\n",
    "\n",
    "#print('Original DataFrame\\n-------------------\\n',df)\n",
    "#print('\\nFiltered DataFrame\\n-------------------\\n',filtered_df)"
   ]
  },
  {
   "cell_type": "code",
   "execution_count": null,
   "metadata": {},
   "outputs": [],
   "source": [
    "#pd.concat([df1,df2],axis=0)\n",
    "\n",
    "# to know the number of columns\n",
    "# dataset_columns.columns\n",
    "\n",
    "# new_dataframe=pd.merge(data1,data2 )\n",
    "\n",
    "#axis=0"
   ]
  },
  {
   "cell_type": "code",
   "execution_count": null,
   "metadata": {},
   "outputs": [],
   "source": [
    "# Reset DataFrame with columns in desired order\n",
    "# df = df[['names','Score','Room','Grade','Teacher','Hobby']]"
   ]
  },
  {
   "cell_type": "code",
   "execution_count": null,
   "metadata": {},
   "outputs": [],
   "source": [
    "import numpy as np\n",
    "from sklearn.impute import KNNImputer\n",
    "import pandas as pd\n",
    "imputer = KNNImputer(n_neighbors=2)\n",
    "df_filled = imputer.fit_transform(test_remove)"
   ]
  },
  {
   "cell_type": "code",
   "execution_count": null,
   "metadata": {},
   "outputs": [],
   "source": [
    "#fill with forward value\n",
    "#dataset['Number of days'] = dataset['Number of days'].fillna(method='ffill')"
   ]
  },
  {
   "cell_type": "code",
   "execution_count": null,
   "metadata": {},
   "outputs": [],
   "source": [
    "#\n",
    "#dataset['Number of days'] = dataset['Number of days'].fillna(method='bfill')"
   ]
  },
  {
   "cell_type": "code",
   "execution_count": null,
   "metadata": {},
   "outputs": [],
   "source": [
    "import numpy as np\n",
    "from sklearn.experimental import enable_iterative_imputer\n",
    "from sklearn.impute import IterativeImputer\n",
    "from sklearn.linear_model import LinearRegression\n",
    "\n",
    "lr = LinearRegression()\n",
    "imp = IterativeImputer(estimator=lr,missing_values=np.nan, max_iter=10, verbose=2, imputation_order='roman',random_state=0)\n",
    "X=imp.fit_transform(X)"
   ]
  },
  {
   "cell_type": "code",
   "execution_count": null,
   "metadata": {},
   "outputs": [],
   "source": [
    "x=test_remove['','','']"
   ]
  }
 ],
 "metadata": {
  "kernelspec": {
   "display_name": "Python 3",
   "language": "python",
   "name": "python3"
  },
  "language_info": {
   "codemirror_mode": {
    "name": "ipython",
    "version": 3
   },
   "file_extension": ".py",
   "mimetype": "text/x-python",
   "name": "python",
   "nbconvert_exporter": "python",
   "pygments_lexer": "ipython3",
   "version": "3.8.5"
  }
 },
 "nbformat": 4,
 "nbformat_minor": 4
}

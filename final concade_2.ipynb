{
 "cells": [
  {
   "cell_type": "code",
   "execution_count": 1,
   "metadata": {},
   "outputs": [],
   "source": [
    "import pandas as pd\n",
    "import numpy as np # scientific computi\n",
    "import seaborn as sns # statistical ploting\n",
    "import matplotlib.pyplot as plt\n",
    "%matplotlib inline\n",
    "import math # besic math functions"
   ]
  },
  {
   "cell_type": "code",
   "execution_count": 2,
   "metadata": {},
   "outputs": [],
   "source": [
    "from sqlalchemy import create_engine\n",
    "import psycopg2"
   ]
  },
  {
   "cell_type": "code",
   "execution_count": null,
   "metadata": {},
   "outputs": [],
   "source": [
    "\n",
    "# Create an engine instance\n",
    "\n",
    "#alchemyEngine   = create_engine('postgresql+psycopg2://postgres:Rinish@21@127.0.0.1:5432/hotel_data', pool_recycle=3600);\n",
    "\n",
    " # Connect to PostgreSQL server\n",
    "\n",
    "#dbConnection    = alchemyEngine.connect();\n",
    "\n",
    " \n",
    "\n",
    "# Read data from PostgreSQL database table and load into a DataFrame instance\n",
    "\n",
    "#data_2       = pds.read_sql(\"select * from \\\"StudentScores\\\"\", dbConnection);\n",
    "\n",
    "#data_3       = pds.read_sql(\"select * from \\\"StudentScores\\\"\", dbConnection);\n",
    " \n",
    "\n",
    "#pds.set_option('display.expand_frame_repr', False);\n",
    "\n",
    " \n",
    "\n",
    "# Print the DataFrame\n",
    "\n",
    "#print(data_2);\n",
    "#print(data_3);\n",
    " \n",
    "\n",
    "# Close the database connection\n",
    "\n",
    "#dbConnection.close();"
   ]
  },
  {
   "cell_type": "code",
   "execution_count": null,
   "metadata": {},
   "outputs": [],
   "source": [
    "data_2=pd.read_csv(r'R:\\project\\data_1.csv')\n",
    "data_3=pd.read_csv(r'R:\\project\\data_2.csv')"
   ]
  }
 ],
 "metadata": {
  "kernelspec": {
   "display_name": "Python 3",
   "language": "python",
   "name": "python3"
  },
  "language_info": {
   "codemirror_mode": {
    "name": "ipython",
    "version": 3
   },
   "file_extension": ".py",
   "mimetype": "text/x-python",
   "name": "python",
   "nbconvert_exporter": "python",
   "pygments_lexer": "ipython3",
   "version": "3.8.5"
  }
 },
 "nbformat": 4,
 "nbformat_minor": 4
}
